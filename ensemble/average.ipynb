{
 "cells": [
  {
   "cell_type": "code",
   "execution_count": 9,
   "metadata": {},
   "outputs": [],
   "source": [
    "from pathlib import Path\n",
    "import numpy as np\n",
    "import pandas as pd\n",
    "import json"
   ]
  },
  {
   "cell_type": "code",
   "execution_count": 10,
   "metadata": {},
   "outputs": [],
   "source": [
    "csvs = Path().cwd().glob(\"*.csv\")"
   ]
  },
  {
   "cell_type": "code",
   "execution_count": 11,
   "metadata": {},
   "outputs": [],
   "source": [
    "lst_of_preds = []\n",
    "for csv in csvs:\n",
    "    lst_of_preds.append(np.genfromtxt(csv, delimiter=\",\", skip_header=1)[:,1])"
   ]
  },
  {
   "cell_type": "code",
   "execution_count": 12,
   "metadata": {},
   "outputs": [],
   "source": [
    "ensemble_average = np.mean(lst_of_preds,axis=0)"
   ]
  },
  {
   "cell_type": "code",
   "execution_count": 13,
   "metadata": {},
   "outputs": [],
   "source": [
    "def save_submission(prediction, filename):\n",
    "    '''\n",
    "    Utility function to dump a submission file.\n",
    "\n",
    "    prediction (numpy.array): 1d numpy array contains your prediction\n",
    "    filename (str): file path to where you want to save the result\n",
    "    '''\n",
    "    sub = pd.DataFrame( {'index': list(range(len(prediction))), 'logK': prediction } )\n",
    "    sub.to_csv(filename, index=False)"
   ]
  },
  {
   "cell_type": "code",
   "execution_count": 14,
   "metadata": {},
   "outputs": [],
   "source": [
    "save_submission(ensemble_average,\"ensemble_average.csv\")"
   ]
  },
  {
   "cell_type": "code",
   "execution_count": 15,
   "metadata": {},
   "outputs": [],
   "source": [
    "txts = Path().cwd().glob(\"*.txt\")\n",
    "lst_of_preds = []\n",
    "for txt in txts:\n",
    "    with txt.open(\"r\") as fhandle:\n",
    "        content = eval(fhandle.read())\n",
    "        lst_of_preds.append(content[0][\"batch_averaged_test/r2\"])"
   ]
  },
  {
   "cell_type": "code",
   "execution_count": null,
   "metadata": {},
   "outputs": [],
   "source": [
    "lst_of_preds"
   ]
  }
 ],
 "metadata": {
  "kernelspec": {
   "display_name": "torch",
   "language": "python",
   "name": "python3"
  },
  "language_info": {
   "codemirror_mode": {
    "name": "ipython",
    "version": 3
   },
   "file_extension": ".py",
   "mimetype": "text/x-python",
   "name": "python",
   "nbconvert_exporter": "python",
   "pygments_lexer": "ipython3",
   "version": "3.12.2"
  }
 },
 "nbformat": 4,
 "nbformat_minor": 2
}
