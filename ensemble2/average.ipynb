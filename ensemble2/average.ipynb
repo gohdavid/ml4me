{
 "cells": [
  {
   "cell_type": "code",
   "execution_count": 9,
   "metadata": {},
   "outputs": [],
   "source": [
    "from pathlib import Path\n",
    "import numpy as np\n",
    "import pandas as pd\n",
    "import json"
   ]
  },
  {
   "cell_type": "code",
   "execution_count": 10,
   "metadata": {},
   "outputs": [],
   "source": [
    "csvs = Path().cwd().glob(\"*.csv\")"
   ]
  },
  {
   "cell_type": "code",
   "execution_count": 11,
   "metadata": {},
   "outputs": [],
   "source": [
    "lst_of_preds = []\n",
    "for csv in csvs:\n",
    "    lst_of_preds.append(np.genfromtxt(csv, delimiter=\",\", skip_header=1)[:,1])"
   ]
  },
  {
   "cell_type": "code",
   "execution_count": 12,
   "metadata": {},
   "outputs": [],
   "source": [
    "ensemble_average = np.mean(lst_of_preds,axis=0)"
   ]
  },
  {
   "cell_type": "code",
   "execution_count": 13,
   "metadata": {},
   "outputs": [],
   "source": [
    "def save_submission(prediction, filename):\n",
    "    '''\n",
    "    Utility function to dump a submission file.\n",
    "\n",
    "    prediction (numpy.array): 1d numpy array contains your prediction\n",
    "    filename (str): file path to where you want to save the result\n",
    "    '''\n",
    "    sub = pd.DataFrame( {'index': list(range(len(prediction))), 'logK': prediction } )\n",
    "    sub.to_csv(filename, index=False)"
   ]
  },
  {
   "cell_type": "code",
   "execution_count": 14,
   "metadata": {},
   "outputs": [],
   "source": [
    "save_submission(ensemble_average,\"ensemble_average.csv\")"
   ]
  },
  {
   "cell_type": "code",
   "execution_count": 15,
   "metadata": {},
   "outputs": [],
   "source": [
    "txts = Path().cwd().glob(\"*.txt\")\n",
    "lst_of_preds = []\n",
    "for txt in txts:\n",
    "    with txt.open(\"r\") as fhandle:\n",
    "        content = eval(fhandle.read())\n",
    "        lst_of_preds.append(content[0][\"batch_averaged_test/r2\"])"
   ]
  },
  {
   "cell_type": "code",
   "execution_count": 16,
   "metadata": {},
   "outputs": [
    {
     "data": {
      "text/plain": [
       "[0.9910466074943542,\n",
       " 0.9900822043418884,\n",
       " 0.9886931777000427,\n",
       " 0.9892849922180176,\n",
       " 0.9895291328430176,\n",
       " 0.9882939457893372,\n",
       " 0.9889703392982483,\n",
       " 0.9868174195289612,\n",
       " 0.9901556372642517,\n",
       " 0.9892112612724304,\n",
       " 0.9901601672172546,\n",
       " 0.9846791625022888,\n",
       " 0.986439049243927,\n",
       " 0.9898810982704163,\n",
       " 0.9882352948188782,\n",
       " 0.9888871312141418,\n",
       " 0.991175651550293,\n",
       " 0.9883587956428528,\n",
       " 0.9901493191719055,\n",
       " 0.9895488619804382,\n",
       " 0.9890485405921936,\n",
       " 0.9899067282676697,\n",
       " 0.990783154964447,\n",
       " 0.988872230052948,\n",
       " 0.9898295402526855,\n",
       " 0.9904002547264099,\n",
       " 0.9877722859382629,\n",
       " 0.9894219040870667,\n",
       " 0.9894956946372986,\n",
       " 0.9875760078430176,\n",
       " 0.9898233413696289,\n",
       " 0.98807293176651,\n",
       " 0.9892609715461731,\n",
       " 0.9903714060783386,\n",
       " 0.9868142008781433,\n",
       " 0.9876260161399841,\n",
       " 0.9900256991386414,\n",
       " 0.9882153868675232,\n",
       " 0.9868772625923157,\n",
       " 0.9900169372558594,\n",
       " 0.9894092679023743,\n",
       " 0.9890730977058411,\n",
       " 0.9877316951751709,\n",
       " 0.988354504108429,\n",
       " 0.988892138004303,\n",
       " 0.9892342686653137,\n",
       " 0.989213764667511,\n",
       " 0.9911152720451355,\n",
       " 0.9893730282783508,\n",
       " 0.9898157119750977,\n",
       " 0.989464282989502,\n",
       " 0.9890612959861755,\n",
       " 0.9877215027809143,\n",
       " 0.9905173182487488,\n",
       " 0.9892778396606445,\n",
       " 0.9904431700706482,\n",
       " 0.9896952509880066,\n",
       " 0.9913517832756042,\n",
       " 0.9880642294883728,\n",
       " 0.9883872866630554,\n",
       " 0.989506721496582,\n",
       " 0.9863242506980896,\n",
       " 0.9895546436309814]"
      ]
     },
     "execution_count": 16,
     "metadata": {},
     "output_type": "execute_result"
    }
   ],
   "source": [
    "lst_of_preds"
   ]
  }
 ],
 "metadata": {
  "kernelspec": {
   "display_name": "torch",
   "language": "python",
   "name": "python3"
  },
  "language_info": {
   "codemirror_mode": {
    "name": "ipython",
    "version": 3
   },
   "file_extension": ".py",
   "mimetype": "text/x-python",
   "name": "python",
   "nbconvert_exporter": "python",
   "pygments_lexer": "ipython3",
   "version": "3.12.2"
  }
 },
 "nbformat": 4,
 "nbformat_minor": 2
}
